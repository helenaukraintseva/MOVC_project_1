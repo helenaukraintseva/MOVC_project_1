{
  "nbformat": 4,
  "nbformat_minor": 0,
  "metadata": {
    "colab": {
      "provenance": [],
      "machine_shape": "hm"
    },
    "kernelspec": {
      "name": "python3",
      "display_name": "Python 3"
    },
    "language_info": {
      "name": "python"
    }
  },
  "cells": [
    {
      "cell_type": "code",
      "execution_count": 1,
      "metadata": {
        "id": "dGlJ54IqtFs4"
      },
      "outputs": [],
      "source": [
        "import pandas as pd\n",
        "import numpy as np\n",
        "import seaborn as sns\n",
        "import tempfile, os, zipfile\n",
        "from PIL import Image\n",
        "import requests\n",
        "from matplotlib import pyplot as plt\n",
        "#mport squarify\n",
        "import random\n",
        "from sklearn.metrics import confusion_matrix, ConfusionMatrixDisplay\n",
        "from sklearn.metrics import classification_report\n",
        "\n",
        "from os import listdir\n",
        "from os.path import isfile, join"
      ]
    },
    {
      "cell_type": "code",
      "source": [
        "import requests\n",
        "from urllib.parse import urlencode\n",
        "\n",
        "base_url = 'https://cloud-api.yandex.net/v1/disk/public/resources/download?'\n",
        "public_key = 'https://disk.yandex.com.am/d/1mFfgWQxggpeUQ'\n",
        "final_url = base_url + urlencode(dict(public_key=public_key))\n",
        "response = requests.get(final_url)\n",
        "\n",
        "download_url = response.json()['href']\n",
        "\n",
        "download_response = requests.get(download_url)\n",
        "\n",
        "\n",
        "file = tempfile.TemporaryFile()\n",
        "file.write(download_response.content)\n",
        "fzip = zipfile.ZipFile(file)\n",
        "fzip.extractall('./TJ_data')\n",
        "\n",
        "file.close()\n",
        "fzip.close()\n",
        "\n",
        "# https://www.kaggle.com/datasets/balabaskar/tom-and-jerry-image-classification/download?datasetVersionNumber=3"
      ],
      "metadata": {
        "id": "cAIY99jntOHN"
      },
      "execution_count": 2,
      "outputs": []
    },
    {
      "cell_type": "code",
      "source": [
        "listdir(\"./TJ_data\") # Tom&Jerry_dataset\n",
        "listdir(\"./TJ_data/Tom&Jerry_dataset\")"
      ],
      "metadata": {
        "colab": {
          "base_uri": "https://localhost:8080/"
        },
        "id": "85k2zYuLtOSn",
        "outputId": "6602f91b-3054-4dc0-fb8d-76fdd51d1473"
      },
      "execution_count": 3,
      "outputs": [
        {
          "output_type": "execute_result",
          "data": {
            "text/plain": [
              "['archive.zip']"
            ]
          },
          "metadata": {},
          "execution_count": 3
        }
      ]
    },
    {
      "cell_type": "code",
      "source": [
        "fzip = zipfile.ZipFile(\"./TJ_data/Tom&Jerry_dataset/archive.zip\")\n",
        "fzip.extractall('./TJ_data/dataset')\n",
        "\n",
        "fzip.close()"
      ],
      "metadata": {
        "id": "PMitgFe9tOWE"
      },
      "execution_count": 4,
      "outputs": []
    },
    {
      "cell_type": "code",
      "source": [
        "dataset_dir = \"./TJ_data/dataset\"\n",
        "tom_dir = \"./TJ_data/dataset/tom_and_jerry/tom_and_jerry/tom\"\n",
        "jerry_dir = \"./TJ_data/dataset/tom_and_jerry/tom_and_jerry/jerry\"\n",
        "tj_0_dir = \"./TJ_data/dataset/tom_and_jerry/tom_and_jerry/tom_jerry_0\"\n",
        "tj_1_dir = \"./TJ_data/dataset/tom_and_jerry/tom_and_jerry/tom_jerry_1\"\n",
        "\n",
        "print(listdir(dataset_dir))\n"
      ],
      "metadata": {
        "colab": {
          "base_uri": "https://localhost:8080/"
        },
        "id": "j3H6S26JtOZa",
        "outputId": "f1f0e097-1ac8-44fc-fbe6-bf357d7035dc"
      },
      "execution_count": 5,
      "outputs": [
        {
          "output_type": "stream",
          "name": "stdout",
          "text": [
            "['challenges.csv', 'ground_truth.csv', 'tom_and_jerry']\n"
          ]
        }
      ]
    },
    {
      "cell_type": "code",
      "source": [
        "RANDOM_STATE = 42"
      ],
      "metadata": {
        "id": "j0bpeEp1tOch"
      },
      "execution_count": 6,
      "outputs": []
    },
    {
      "cell_type": "code",
      "source": [
        "import os\n",
        "import numpy as np\n",
        "from PIL import Image\n",
        "\n",
        "folder_path = './TJ_data/dataset/tom_and_jerry/tom_and_jerry/'\n",
        "\n",
        "\n",
        "def images_to_array(folder_path, class_name):\n",
        "\n",
        "    image_files = [f for f in os.listdir(folder_path) if os.path.isfile(os.path.join(folder_path, f))]\n",
        "\n",
        "    data = []\n",
        "    target= []\n",
        "    for image_file in image_files:\n",
        "        image_path = os.path.join(folder_path, image_file)\n",
        "\n",
        "        img = Image.open(image_path)\n",
        "\n",
        "        img = img.resize((224, 224))\n",
        "\n",
        "        img_array = np.array(img, dtype=float) / 255.0  # Нормализация значений пикселей к диапазону [0, 1]\n",
        "        img_vector = img_array.flatten()\n",
        "\n",
        "        data.append(img_vector)\n",
        "        target.append(class_names.index(class_name))\n",
        "\n",
        "\n",
        "    result_array = np.array(data)\n",
        "    target_array = np.array(target)\n",
        "    return result_array, target_array\n",
        "\n",
        "folder_path = './TJ_data/dataset/tom_and_jerry/tom_and_jerry/'\n",
        "class_names =  ['jerry', 'tom', 'tom_jerry_0', 'tom_jerry_1']\n",
        "result_array = None\n",
        "target_result_array = None\n",
        "\n",
        "\n",
        "for class_name in class_names:\n",
        "    class_directory = os.path.join(folder_path, class_name)\n",
        "    class_array, target_array = images_to_array(class_directory, class_name)\n",
        "\n",
        "    if result_array is None:\n",
        "        result_array = class_array\n",
        "    else:\n",
        "        result_array = np.concatenate((result_array, class_array))\n",
        "    if target_result_array is None:\n",
        "        target_result_array=target_array\n",
        "    else:\n",
        "        target_result_array=np.concatenate((target_result_array, target_array))\n",
        "\n",
        "print(result_array.shape)\n",
        "print(target_result_array.shape)"
      ],
      "metadata": {
        "colab": {
          "base_uri": "https://localhost:8080/"
        },
        "id": "uLe_a0LItOf3",
        "outputId": "e98b235d-e70c-4d80-baf1-437e38763719"
      },
      "execution_count": 7,
      "outputs": [
        {
          "output_type": "stream",
          "name": "stdout",
          "text": [
            "(5478, 150528)\n",
            "(5478,)\n"
          ]
        }
      ]
    },
    {
      "cell_type": "code",
      "source": [
        "from sklearn.model_selection import train_test_split\n",
        "X_train, X_test, y_train, y_test = train_test_split(result_array,target_result_array,\n",
        "                                                    test_size=0.25,\n",
        "                                                    random_state=1984)"
      ],
      "metadata": {
        "id": "D1mPc5HotOif"
      },
      "execution_count": 8,
      "outputs": []
    },
    {
      "cell_type": "markdown",
      "source": [
        "Код ниже должен был быть итеративным от 1 до размерности массива, но к сожалению это безумно долго. Поэтому ручками"
      ],
      "metadata": {
        "id": "vAWpRXl-EdmQ"
      }
    },
    {
      "cell_type": "code",
      "source": [
        "from sklearn.decomposition import PCA\n",
        "from sklearn.svm import SVC\n",
        "from sklearn.metrics import accuracy_score, precision_score, recall_score, f1_score\n",
        "\n",
        "accuracy_scores = []\n",
        "precision_scores=[]\n",
        "recall_scores=[]\n",
        "f1_scores=[]\n",
        "component_range = range(1, 1000, 100)\n",
        "for n_components in component_range:\n",
        "    pca = PCA(n_components=n_components)\n",
        "    X_train_pca = pca.fit_transform(X_train)\n",
        "    model = SVC(kernel='rbf', class_weight ='balanced')\n",
        "    model.fit(X_train_pca, y_train)\n",
        "    X_test_pca = pca.transform(X_test)\n",
        "    y_pred = model.predict(X_test_pca)\n",
        "    accuracy = accuracy_score(y_test, y_pred)\n",
        "    print(\"accuracy:\",n_components, accuracy)\n",
        "    accuracy_scores.append(accuracy)\n",
        "    precision = precision_score(y_test, y_pred, average='weighted')\n",
        "    print(\"precision:\", n_components, precision)\n",
        "    precision_scores.append(precision)\n",
        "    recall = recall_score(y_test, y_pred, average='weighted')\n",
        "    print(\"recall:\", n_components, recall)\n",
        "    recall_scores.append(recall)\n",
        "    f1 = f1_score(y_test, y_pred, average='weighted')\n",
        "    print(\"f1:\",n_components, f1)\n",
        "    f1_scores.append(f1)\n",
        "best_index = np.argmax(accuracy_scores)\n",
        "best_n_components = component_range[best_index]\n",
        "print(\"Наилучшее количество компонент для accuracy:\", best_n_components)\n",
        "best_index = np.argmax(accuracy_scores)\n",
        "best_n_components = component_range[best_index]\n",
        "print(\"Наилучшее количество компонент для precision:\", best_n_components)\n",
        "best_index = np.argmax(accuracy_scores)\n",
        "best_n_components = component_range[best_index]\n",
        "print(\"Наилучшее количество компонент для recall:\", best_n_components)\n",
        "best_index = np.argmax(accuracy_scores)\n",
        "best_n_components = component_range[best_index]\n",
        "print(\"Наилучшее количество компонент для f1:\", best_n_components)\n"
      ],
      "metadata": {
        "colab": {
          "base_uri": "https://localhost:8080/"
        },
        "id": "UNBZDrUQtOlz",
        "outputId": "dc192792-0936-4c46-8c29-4c4ad7329adc"
      },
      "execution_count": 12,
      "outputs": [
        {
          "output_type": "stream",
          "name": "stdout",
          "text": [
            "accuracy: 1 0.32408759124087594\n",
            "precision: 1 0.34209740333717314\n",
            "recall: 1 0.32408759124087594\n",
            "f1: 1 0.32879609216717554\n",
            "accuracy: 101 0.7124087591240876\n",
            "precision: 101 0.7128149626833584\n",
            "recall: 101 0.7124087591240876\n",
            "f1: 101 0.712473584202829\n",
            "accuracy: 201 0.7299270072992701\n",
            "precision: 201 0.7321979585974646\n",
            "recall: 201 0.7299270072992701\n",
            "f1: 201 0.7307006184313248\n",
            "accuracy: 301 0.7350364963503649\n",
            "precision: 301 0.7379214081149076\n",
            "recall: 301 0.7350364963503649\n",
            "f1: 301 0.73607047967608\n",
            "accuracy: 401 0.7416058394160584\n",
            "precision: 401 0.74541240293817\n",
            "recall: 401 0.7416058394160584\n",
            "f1: 401 0.7429171577435059\n",
            "accuracy: 501 0.743065693430657\n",
            "precision: 501 0.7472094116993546\n",
            "recall: 501 0.743065693430657\n",
            "f1: 501 0.744450985334619\n",
            "accuracy: 601 0.7467153284671533\n",
            "precision: 601 0.7507761663367545\n",
            "recall: 601 0.7467153284671533\n",
            "f1: 601 0.7480997737300276\n",
            "accuracy: 701 0.7474452554744525\n",
            "precision: 701 0.7515848179929534\n",
            "recall: 701 0.7474452554744525\n",
            "f1: 701 0.7488555815096005\n",
            "accuracy: 801 0.7474452554744525\n",
            "precision: 801 0.7512194951190388\n",
            "recall: 801 0.7474452554744525\n",
            "f1: 801 0.7487604862532535\n",
            "accuracy: 901 0.7489051094890511\n",
            "precision: 901 0.7532451779939225\n",
            "recall: 901 0.7489051094890511\n",
            "f1: 901 0.7503263808797203\n",
            "Наилучшее количество компонент для accuracy: 901\n",
            "Наилучшее количество компонент для precision: 901\n",
            "Наилучшее количество компонент для recall: 901\n",
            "Наилучшее количество компонент для f1: 901\n"
          ]
        }
      ]
    },
    {
      "cell_type": "code",
      "source": [
        "from sklearn.decomposition import PCA\n",
        "from sklearn.svm import SVC\n",
        "from sklearn.metrics import accuracy_score, precision_score, recall_score, f1_score\n",
        "\n",
        "accuracy_scores = []\n",
        "precision_scores=[]\n",
        "recall_scores=[]\n",
        "f1_scores=[]\n",
        "component_range = range(1000, 2000, 100)\n",
        "for n_components in component_range:\n",
        "    pca = PCA(n_components=n_components)\n",
        "    X_train_pca = pca.fit_transform(X_train)\n",
        "    model = SVC(kernel='rbf', class_weight ='balanced')\n",
        "    model.fit(X_train_pca, y_train)\n",
        "    X_test_pca = pca.transform(X_test)\n",
        "    y_pred = model.predict(X_test_pca)\n",
        "    accuracy = accuracy_score(y_test, y_pred)\n",
        "    print(\"accuracy:\",n_components, accuracy)\n",
        "    accuracy_scores.append(accuracy)\n",
        "    precision = precision_score(y_test, y_pred, average='weighted')\n",
        "    print(\"precision:\", n_components, precision)\n",
        "    precision_scores.append(precision)\n",
        "    recall = recall_score(y_test, y_pred, average='weighted')\n",
        "    print(\"recall:\", n_components, recall)\n",
        "    recall_scores.append(recall)\n",
        "    f1 = f1_score(y_test, y_pred, average='weighted')\n",
        "    print(\"f1:\",n_components, f1)\n",
        "    f1_scores.append(f1)\n",
        "best_index = np.argmax(accuracy_scores)\n",
        "best_n_components = component_range[best_index]\n",
        "print(\"Наилучшее количество компонент для accuracy:\", best_n_components)\n",
        "best_index = np.argmax(accuracy_scores)\n",
        "best_n_components = component_range[best_index]\n",
        "print(\"Наилучшее количество компонент для precision:\", best_n_components)\n",
        "best_index = np.argmax(accuracy_scores)\n",
        "best_n_components = component_range[best_index]\n",
        "print(\"Наилучшее количество компонент для recall:\", best_n_components)\n",
        "best_index = np.argmax(accuracy_scores)\n",
        "best_n_components = component_range[best_index]\n",
        "print(\"Наилучшее количество компонент для f1:\", best_n_components)\n"
      ],
      "metadata": {
        "colab": {
          "base_uri": "https://localhost:8080/"
        },
        "id": "0LPABrZH-rwT",
        "outputId": "0505883a-2c00-4311-db45-84b47e7e630b"
      },
      "execution_count": 13,
      "outputs": [
        {
          "output_type": "stream",
          "name": "stdout",
          "text": [
            "accuracy: 1000 0.7467153284671533\n",
            "precision: 1000 0.7515374687300141\n",
            "recall: 1000 0.7467153284671533\n",
            "f1: 1000 0.748227297916372\n",
            "accuracy: 1100 0.7481751824817519\n",
            "precision: 1100 0.7533219080968533\n",
            "recall: 1100 0.7481751824817519\n",
            "f1: 1100 0.7497583902230195\n",
            "accuracy: 1200 0.7503649635036497\n",
            "precision: 1200 0.755198569307096\n",
            "recall: 1200 0.7503649635036497\n",
            "f1: 1200 0.7518776476422508\n",
            "accuracy: 1300 0.7489051094890511\n",
            "precision: 1300 0.7542182534209849\n",
            "recall: 1300 0.7489051094890511\n",
            "f1: 1300 0.7505246051927658\n",
            "accuracy: 1400 0.7496350364963503\n",
            "precision: 1400 0.7552108171865096\n",
            "recall: 1400 0.7496350364963503\n",
            "f1: 1400 0.7512895479213212\n",
            "accuracy: 1500 0.7496350364963503\n",
            "precision: 1500 0.754972655115491\n",
            "recall: 1500 0.7496350364963503\n",
            "f1: 1500 0.7512520709432694\n",
            "accuracy: 1600 0.7496350364963503\n",
            "precision: 1600 0.7552108171865096\n",
            "recall: 1600 0.7496350364963503\n",
            "f1: 1600 0.7512895479213212\n",
            "accuracy: 1700 0.7503649635036497\n",
            "precision: 1700 0.755800190534523\n",
            "recall: 1700 0.7503649635036497\n",
            "f1: 1700 0.7519963220622198\n",
            "accuracy: 1800 0.7496350364963503\n",
            "precision: 1800 0.7555270216606347\n",
            "recall: 1800 0.7496350364963503\n",
            "f1: 1800 0.7513466472531479\n",
            "accuracy: 1900 0.7489051094890511\n",
            "precision: 1900 0.7546939955719781\n",
            "recall: 1900 0.7489051094890511\n",
            "f1: 1900 0.7506020738954242\n",
            "Наилучшее количество компонент для accuracy: 1200\n",
            "Наилучшее количество компонент для precision: 1200\n",
            "Наилучшее количество компонент для recall: 1200\n",
            "Наилучшее количество компонент для f1: 1200\n"
          ]
        }
      ]
    }
  ]
}