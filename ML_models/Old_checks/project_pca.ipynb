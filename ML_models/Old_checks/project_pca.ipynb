{
  "cells": [
    {
      "cell_type": "code",
      "execution_count": 4,
      "id": "03df9754-84f5-46e7-8aa8-36ac5d839a60",
      "metadata": {
        "id": "03df9754-84f5-46e7-8aa8-36ac5d839a60"
      },
      "outputs": [],
      "source": [
        "import pandas as pd\n",
        "import numpy as np\n",
        "import seaborn as sns\n",
        "import tempfile, os, zipfile\n",
        "from PIL import Image\n",
        "import requests\n",
        "from matplotlib import pyplot as plt\n",
        "#mport squarify\n",
        "import random\n",
        "from sklearn.metrics import confusion_matrix, ConfusionMatrixDisplay\n",
        "from sklearn.metrics import classification_report\n",
        "\n",
        "from os import listdir\n",
        "from os.path import isfile, join\n"
      ]
    },
    {
      "cell_type": "code",
      "execution_count": 5,
      "id": "4cb4868f-dbbd-4aa2-88b1-220ede6ecb24",
      "metadata": {
        "id": "4cb4868f-dbbd-4aa2-88b1-220ede6ecb24"
      },
      "outputs": [],
      "source": [
        "import requests\n",
        "from urllib.parse import urlencode\n",
        "\n",
        "base_url = 'https://cloud-api.yandex.net/v1/disk/public/resources/download?'\n",
        "public_key = 'https://disk.yandex.com.am/d/1mFfgWQxggpeUQ'\n",
        "final_url = base_url + urlencode(dict(public_key=public_key))\n",
        "response = requests.get(final_url)\n",
        "\n",
        "download_url = response.json()['href']\n",
        "\n",
        "download_response = requests.get(download_url)\n",
        "\n",
        "\n",
        "file = tempfile.TemporaryFile()\n",
        "file.write(download_response.content)\n",
        "fzip = zipfile.ZipFile(file)\n",
        "fzip.extractall('./TJ_data')\n",
        "\n",
        "file.close()\n",
        "fzip.close()\n",
        "\n",
        "# https://www.kaggle.com/datasets/balabaskar/tom-and-jerry-image-classification/download?datasetVersionNumber=3"
      ]
    },
    {
      "cell_type": "code",
      "execution_count": 6,
      "id": "2f7c039a-4a34-4261-87c8-16d3774e1cfd",
      "metadata": {
        "id": "2f7c039a-4a34-4261-87c8-16d3774e1cfd",
        "outputId": "4dbad3ac-d58e-4b9d-dc0b-24d9481f618f",
        "colab": {
          "base_uri": "https://localhost:8080/"
        }
      },
      "outputs": [
        {
          "output_type": "execute_result",
          "data": {
            "text/plain": [
              "['archive.zip']"
            ]
          },
          "metadata": {},
          "execution_count": 6
        }
      ],
      "source": [
        "listdir(\"./TJ_data\") # Tom&Jerry_dataset\n",
        "listdir(\"./TJ_data/Tom&Jerry_dataset\")"
      ]
    },
    {
      "cell_type": "code",
      "execution_count": 7,
      "id": "c9901197-3cfe-4aee-bbf2-17de94bdec2d",
      "metadata": {
        "id": "c9901197-3cfe-4aee-bbf2-17de94bdec2d"
      },
      "outputs": [],
      "source": [
        "fzip = zipfile.ZipFile(\"./TJ_data/Tom&Jerry_dataset/archive.zip\")\n",
        "fzip.extractall('./TJ_data/dataset')\n",
        "\n",
        "fzip.close()"
      ]
    },
    {
      "cell_type": "code",
      "execution_count": 8,
      "id": "ae6f5449-8980-4906-93f0-aafad5c02a38",
      "metadata": {
        "id": "ae6f5449-8980-4906-93f0-aafad5c02a38",
        "outputId": "0c9d6b2f-530c-4b44-cec8-2df117a2cf75",
        "colab": {
          "base_uri": "https://localhost:8080/"
        }
      },
      "outputs": [
        {
          "output_type": "stream",
          "name": "stdout",
          "text": [
            "['ground_truth.csv', 'challenges.csv', 'tom_and_jerry']\n"
          ]
        }
      ],
      "source": [
        "\n",
        "\n",
        "dataset_dir = \"./TJ_data/dataset\"\n",
        "tom_dir = \"./TJ_data/dataset/tom_and_jerry/tom_and_jerry/tom\"\n",
        "jerry_dir = \"./TJ_data/dataset/tom_and_jerry/tom_and_jerry/jerry\"\n",
        "tj_0_dir = \"./TJ_data/dataset/tom_and_jerry/tom_and_jerry/tom_jerry_0\"\n",
        "tj_1_dir = \"./TJ_data/dataset/tom_and_jerry/tom_and_jerry/tom_jerry_1\"\n",
        "\n",
        "print(listdir(dataset_dir))\n"
      ]
    },
    {
      "cell_type": "code",
      "execution_count": 9,
      "id": "41e19d0c-1693-4886-b9ce-979baa824616",
      "metadata": {
        "id": "41e19d0c-1693-4886-b9ce-979baa824616"
      },
      "outputs": [],
      "source": [
        "RANDOM_STATE = 42"
      ]
    },
    {
      "cell_type": "code",
      "source": [
        "import os\n",
        "import numpy as np\n",
        "from PIL import Image\n",
        "\n",
        "folder_path = './TJ_data/dataset/tom_and_jerry/tom_and_jerry/'\n",
        "\n",
        "\n",
        "def images_to_array(folder_path, class_name):\n",
        "\n",
        "    image_files = [f for f in os.listdir(folder_path) if os.path.isfile(os.path.join(folder_path, f))]\n",
        "\n",
        "    data = []\n",
        "    target= []\n",
        "    for image_file in image_files:\n",
        "        image_path = os.path.join(folder_path, image_file)\n",
        "\n",
        "        img = Image.open(image_path)\n",
        "\n",
        "        img = img.resize((224, 224))\n",
        "\n",
        "        img_array = np.array(img, dtype=float) / 255.0  # Нормализация значений пикселей к диапазону [0, 1]\n",
        "        img_vector = img_array.flatten()\n",
        "\n",
        "        data.append(img_vector)\n",
        "        target.append(class_names.index(class_name))\n",
        "\n",
        "\n",
        "    result_array = np.array(data)\n",
        "    target_array = np.array(target)\n",
        "    return result_array, target_array\n",
        "\n",
        "folder_path = './TJ_data/dataset/tom_and_jerry/tom_and_jerry/'\n",
        "class_names =  ['jerry', 'tom', 'tom_jerry_0', 'tom_jerry_1']\n",
        "result_array = None\n",
        "target_result_array = None\n",
        "\n",
        "\n",
        "for class_name in class_names:\n",
        "    class_directory = os.path.join(folder_path, class_name)\n",
        "    class_array, target_array = images_to_array(class_directory, class_name)\n",
        "\n",
        "    if result_array is None:\n",
        "        result_array = class_array\n",
        "    else:\n",
        "        result_array = np.concatenate((result_array, class_array))\n",
        "    if target_result_array is None:\n",
        "        target_result_array=target_array\n",
        "    else:\n",
        "        target_result_array=np.concatenate((target_result_array, target_array))\n",
        "\n",
        "print(result_array.shape)\n",
        "print(target_result_array.shape)"
      ],
      "metadata": {
        "id": "M_K5YkqwsczH",
        "colab": {
          "base_uri": "https://localhost:8080/"
        },
        "outputId": "5d2427da-0358-459b-f53d-1da66a8b767d"
      },
      "id": "M_K5YkqwsczH",
      "execution_count": 10,
      "outputs": [
        {
          "output_type": "stream",
          "name": "stdout",
          "text": [
            "(5478, 150528)\n",
            "(5478,)\n"
          ]
        }
      ]
    },
    {
      "cell_type": "code",
      "source": [
        "from sklearn.model_selection import train_test_split\n",
        "X_train, X_test, y_train, y_test = train_test_split(result_array,target_result_array,\n",
        "                                                    test_size=0.25,\n",
        "                                                    random_state=1984)"
      ],
      "metadata": {
        "id": "9Rykz0dSki83"
      },
      "id": "9Rykz0dSki83",
      "execution_count": 11,
      "outputs": []
    },
    {
      "cell_type": "code",
      "source": [
        "from sklearn.decomposition import PCA"
      ],
      "metadata": {
        "id": "foQRJo4sueHS"
      },
      "id": "foQRJo4sueHS",
      "execution_count": 12,
      "outputs": []
    },
    {
      "cell_type": "code",
      "source": [
        "pca = PCA(n_components=250).fit(X_train)"
      ],
      "metadata": {
        "id": "t6Ou6BtjtZaK"
      },
      "id": "t6Ou6BtjtZaK",
      "execution_count": 13,
      "outputs": []
    },
    {
      "cell_type": "code",
      "source": [
        "X_train_pca = pca.transform(X_train)\n",
        "X_test_pca = pca.transform(X_test)"
      ],
      "metadata": {
        "id": "cmWn3mwCqBfx"
      },
      "id": "cmWn3mwCqBfx",
      "execution_count": 14,
      "outputs": []
    },
    {
      "cell_type": "code",
      "source": [
        "from sklearn.svm import SVC\n",
        "from sklearn.metrics import classification_report, confusion_matrix"
      ],
      "metadata": {
        "id": "5yUGYjTRqF4U"
      },
      "id": "5yUGYjTRqF4U",
      "execution_count": 15,
      "outputs": []
    },
    {
      "cell_type": "code",
      "source": [
        "clf = SVC(kernel='rbf', class_weight ='balanced')\n"
      ],
      "metadata": {
        "id": "RGWJjgefqJ4B"
      },
      "id": "RGWJjgefqJ4B",
      "execution_count": 16,
      "outputs": []
    },
    {
      "cell_type": "code",
      "source": [
        "clf.fit(X_train_pca, y_train)\n",
        "clf.score(X_test_pca,y_test)"
      ],
      "metadata": {
        "colab": {
          "base_uri": "https://localhost:8080/"
        },
        "id": "sjr4Iz1JqMaT",
        "outputId": "8ddca412-97f9-48b2-b39f-b5ed28b29256"
      },
      "id": "sjr4Iz1JqMaT",
      "execution_count": 17,
      "outputs": [
        {
          "output_type": "execute_result",
          "data": {
            "text/plain": [
              "0.7576642335766424"
            ]
          },
          "metadata": {},
          "execution_count": 17
        }
      ]
    },
    {
      "cell_type": "code",
      "source": [
        "y_pred_pca = clf.predict(X_test_pca)"
      ],
      "metadata": {
        "id": "VU2N1OZWqVgE"
      },
      "id": "VU2N1OZWqVgE",
      "execution_count": 18,
      "outputs": []
    },
    {
      "cell_type": "code",
      "source": [
        "cm = confusion_matrix(y_test,y_pred_pca, labels=range(len(target_result_array)) )"
      ],
      "metadata": {
        "id": "4yNKsV_iqo4U"
      },
      "id": "4yNKsV_iqo4U",
      "execution_count": 19,
      "outputs": []
    },
    {
      "cell_type": "code",
      "source": [
        "display = ConfusionMatrixDisplay(confusion_matrix = cm, display_labels = target_result_array)"
      ],
      "metadata": {
        "id": "H6i_DF5Cqwb8"
      },
      "id": "H6i_DF5Cqwb8",
      "execution_count": 20,
      "outputs": []
    },
    {
      "cell_type": "code",
      "source": [
        "print(classification_report(y_test,y_pred_pca))\n"
      ],
      "metadata": {
        "colab": {
          "base_uri": "https://localhost:8080/"
        },
        "id": "soLGF8UMuetN",
        "outputId": "6f2a93fe-a70e-4901-e827-337be333a687"
      },
      "id": "soLGF8UMuetN",
      "execution_count": 22,
      "outputs": [
        {
          "output_type": "stream",
          "name": "stdout",
          "text": [
            "              precision    recall  f1-score   support\n",
            "\n",
            "           0       0.71      0.80      0.75       296\n",
            "           1       0.82      0.77      0.80       497\n",
            "           2       0.71      0.67      0.69       366\n",
            "           3       0.77      0.82      0.79       211\n",
            "\n",
            "    accuracy                           0.76      1370\n",
            "   macro avg       0.75      0.76      0.76      1370\n",
            "weighted avg       0.76      0.76      0.76      1370\n",
            "\n"
          ]
        }
      ]
    },
    {
      "cell_type": "code",
      "source": [],
      "metadata": {
        "id": "25kPRAq2wUWV"
      },
      "id": "25kPRAq2wUWV",
      "execution_count": null,
      "outputs": []
    }
  ],
  "metadata": {
    "kernelspec": {
      "display_name": "Python 3",
      "name": "python3"
    },
    "language_info": {
      "codemirror_mode": {
        "name": "ipython",
        "version": 3
      },
      "file_extension": ".py",
      "mimetype": "text/x-python",
      "name": "python",
      "nbconvert_exporter": "python",
      "pygments_lexer": "ipython3",
      "version": "3.12.0"
    },
    "colab": {
      "provenance": [],
      "machine_shape": "hm"
    }
  },
  "nbformat": 4,
  "nbformat_minor": 5
}