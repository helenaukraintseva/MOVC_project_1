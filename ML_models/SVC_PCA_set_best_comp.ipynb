{
  "nbformat": 4,
  "nbformat_minor": 0,
  "metadata": {
    "colab": {
      "provenance": [],
      "machine_shape": "hm"
    },
    "kernelspec": {
      "name": "python3",
      "display_name": "Python 3"
    },
    "language_info": {
      "name": "python"
    }
  },
  "cells": [
    {
      "cell_type": "code",
      "execution_count": 1,
      "metadata": {
        "id": "vuky68VSxjP9"
      },
      "outputs": [],
      "source": [
        "import pandas as pd\n",
        "import numpy as np\n",
        "import seaborn as sns\n",
        "import tempfile, os, zipfile\n",
        "from PIL import Image\n",
        "import requests\n",
        "from matplotlib import pyplot as plt\n",
        "#mport squarify\n",
        "import random\n",
        "from sklearn.metrics import confusion_matrix, ConfusionMatrixDisplay\n",
        "from sklearn.metrics import classification_report\n",
        "\n",
        "from os import listdir\n",
        "from os.path import isfile, join"
      ]
    },
    {
      "cell_type": "code",
      "source": [
        "import requests\n",
        "from urllib.parse import urlencode\n",
        "\n",
        "base_url = 'https://cloud-api.yandex.net/v1/disk/public/resources/download?'\n",
        "public_key = 'https://disk.yandex.com.am/d/1mFfgWQxggpeUQ'\n",
        "final_url = base_url + urlencode(dict(public_key=public_key))\n",
        "response = requests.get(final_url)\n",
        "\n",
        "download_url = response.json()['href']\n",
        "\n",
        "download_response = requests.get(download_url)\n",
        "\n",
        "\n",
        "file = tempfile.TemporaryFile()\n",
        "file.write(download_response.content)\n",
        "fzip = zipfile.ZipFile(file)\n",
        "fzip.extractall('./TJ_data')\n",
        "\n",
        "file.close()\n",
        "fzip.close()\n",
        "\n",
        "# https://www.kaggle.com/datasets/balabaskar/tom-and-jerry-image-classification/download?datasetVersionNumber=3"
      ],
      "metadata": {
        "id": "utKC5eXHxld1"
      },
      "execution_count": 2,
      "outputs": []
    },
    {
      "cell_type": "code",
      "source": [
        "listdir(\"./TJ_data\") # Tom&Jerry_dataset\n",
        "listdir(\"./TJ_data/Tom&Jerry_dataset\")"
      ],
      "metadata": {
        "colab": {
          "base_uri": "https://localhost:8080/"
        },
        "id": "pFBSnM5BxuoJ",
        "outputId": "e9c5cdaa-1005-4d46-c9b9-cbe127ce51c3"
      },
      "execution_count": 3,
      "outputs": [
        {
          "output_type": "execute_result",
          "data": {
            "text/plain": [
              "['archive.zip']"
            ]
          },
          "metadata": {},
          "execution_count": 3
        }
      ]
    },
    {
      "cell_type": "code",
      "source": [
        "fzip = zipfile.ZipFile(\"./TJ_data/Tom&Jerry_dataset/archive.zip\")\n",
        "fzip.extractall('./TJ_data/dataset')\n",
        "\n",
        "fzip.close()"
      ],
      "metadata": {
        "id": "33c0NoZKxyCI"
      },
      "execution_count": 4,
      "outputs": []
    },
    {
      "cell_type": "code",
      "source": [
        "dataset_dir = \"./TJ_data/dataset\"\n",
        "tom_dir = \"./TJ_data/dataset/tom_and_jerry/tom_and_jerry/tom\"\n",
        "jerry_dir = \"./TJ_data/dataset/tom_and_jerry/tom_and_jerry/jerry\"\n",
        "tj_0_dir = \"./TJ_data/dataset/tom_and_jerry/tom_and_jerry/tom_jerry_0\"\n",
        "tj_1_dir = \"./TJ_data/dataset/tom_and_jerry/tom_and_jerry/tom_jerry_1\"\n",
        "\n",
        "print(listdir(dataset_dir))\n"
      ],
      "metadata": {
        "colab": {
          "base_uri": "https://localhost:8080/"
        },
        "id": "BB-8TTyJx1Pm",
        "outputId": "7fbf7a01-b032-4d7d-ae27-5ebb773e0b5c"
      },
      "execution_count": 5,
      "outputs": [
        {
          "output_type": "stream",
          "name": "stdout",
          "text": [
            "['challenges.csv', 'ground_truth.csv', 'tom_and_jerry']\n"
          ]
        }
      ]
    },
    {
      "cell_type": "code",
      "source": [
        "RANDOM_STATE = 42"
      ],
      "metadata": {
        "id": "08FKW9lyx_K9"
      },
      "execution_count": 6,
      "outputs": []
    },
    {
      "cell_type": "code",
      "source": [
        "import os\n",
        "import numpy as np\n",
        "from PIL import Image\n",
        "\n",
        "folder_path = './TJ_data/dataset/tom_and_jerry/tom_and_jerry/'\n",
        "\n",
        "\n",
        "def images_to_array(folder_path, class_name):\n",
        "\n",
        "    image_files = [f for f in os.listdir(folder_path) if os.path.isfile(os.path.join(folder_path, f))]\n",
        "\n",
        "    data = []\n",
        "    target= []\n",
        "    for image_file in image_files:\n",
        "        image_path = os.path.join(folder_path, image_file)\n",
        "\n",
        "        img = Image.open(image_path)\n",
        "\n",
        "        img = img.resize((224, 224))\n",
        "\n",
        "        img_array = np.array(img, dtype=float) / 255.0  # Нормализация значений пикселей к диапазону [0, 1]\n",
        "        img_vector = img_array.flatten()\n",
        "\n",
        "        data.append(img_vector)\n",
        "        target.append(class_names.index(class_name))\n",
        "\n",
        "\n",
        "    result_array = np.array(data)\n",
        "    target_array = np.array(target)\n",
        "    return result_array, target_array\n",
        "\n",
        "folder_path = './TJ_data/dataset/tom_and_jerry/tom_and_jerry/'\n",
        "class_names =  ['jerry', 'tom', 'tom_jerry_0', 'tom_jerry_1']\n",
        "result_array = None\n",
        "target_result_array = None\n",
        "\n",
        "\n",
        "for class_name in class_names:\n",
        "    class_directory = os.path.join(folder_path, class_name)\n",
        "    class_array, target_array = images_to_array(class_directory, class_name)\n",
        "\n",
        "    if result_array is None:\n",
        "        result_array = class_array\n",
        "    else:\n",
        "        result_array = np.concatenate((result_array, class_array))\n",
        "    if target_result_array is None:\n",
        "        target_result_array=target_array\n",
        "    else:\n",
        "        target_result_array=np.concatenate((target_result_array, target_array))\n",
        "\n",
        "print(result_array.shape)\n",
        "print(target_result_array.shape)"
      ],
      "metadata": {
        "colab": {
          "base_uri": "https://localhost:8080/"
        },
        "id": "r2zkq6XuyDM2",
        "outputId": "a4c46b98-555f-4372-dc24-280d5d6ac0af"
      },
      "execution_count": 7,
      "outputs": [
        {
          "output_type": "stream",
          "name": "stdout",
          "text": [
            "(5478, 150528)\n",
            "(5478,)\n"
          ]
        }
      ]
    },
    {
      "cell_type": "code",
      "source": [
        "from sklearn.model_selection import train_test_split\n",
        "X_train, X_test, y_train, y_test = train_test_split(result_array,target_result_array,\n",
        "                                                    test_size=0.25,\n",
        "                                                    random_state=1984)"
      ],
      "metadata": {
        "id": "zaI8J6K4zffE"
      },
      "execution_count": 8,
      "outputs": []
    },
    {
      "cell_type": "code",
      "source": [
        "from sklearn.decomposition import PCA\n",
        "pca = PCA(n_components=600).fit(X_train)\n",
        "X_train_pca = pca.transform(X_train)\n",
        "X_test_pca = pca.transform(X_test)"
      ],
      "metadata": {
        "id": "ljvYZMFYsAfi"
      },
      "execution_count": 9,
      "outputs": []
    },
    {
      "cell_type": "code",
      "source": [
        "from sklearn.svm import SVC\n",
        "from sklearn.metrics import classification_report, confusion_matrix\n",
        "from sklearn.metrics import accuracy_score, precision_score, recall_score, f1_score\n",
        "\n",
        "clf = SVC(kernel='rbf', class_weight ='balanced')\n",
        "clf.fit(X_train_pca, y_train)\n",
        "clf.score(X_test_pca,y_test)\n",
        "y_pred_pca = clf.predict(X_test_pca)\n",
        "print(classification_report(y_test,y_pred_pca))\n"
      ],
      "metadata": {
        "colab": {
          "base_uri": "https://localhost:8080/"
        },
        "id": "ARlSglT-zkLT",
        "outputId": "a5f5834c-e9b2-447f-b9fc-3a7d9b9a56d7"
      },
      "execution_count": 10,
      "outputs": [
        {
          "output_type": "stream",
          "name": "stdout",
          "text": [
            "              precision    recall  f1-score   support\n",
            "\n",
            "           0       0.67      0.72      0.69       296\n",
            "           1       0.83      0.77      0.80       497\n",
            "           2       0.67      0.71      0.69       366\n",
            "           3       0.80      0.79      0.80       211\n",
            "\n",
            "    accuracy                           0.75      1370\n",
            "   macro avg       0.74      0.75      0.74      1370\n",
            "weighted avg       0.75      0.75      0.75      1370\n",
            "\n"
          ]
        }
      ]
    },
    {
      "cell_type": "code",
      "source": [
        "accuracy = accuracy_score(y_test, y_pred_pca)\n",
        "precision = precision_score(y_test, y_pred_pca, average='weighted')\n",
        "recall = recall_score(y_test, y_pred_pca, average='weighted')\n",
        "f1 = f1_score(y_test, y_pred_pca, average='weighted')\n",
        "\n",
        "print('Accuracy:', accuracy)\n",
        "print('Precision:', precision)\n",
        "print('Recall:', recall)\n",
        "print('F1-Score:', f1)\n"
      ],
      "metadata": {
        "colab": {
          "base_uri": "https://localhost:8080/"
        },
        "id": "C2kIPiBZzuBv",
        "outputId": "23949489-26e4-4a64-f15d-078c58a55bbf"
      },
      "execution_count": 11,
      "outputs": [
        {
          "output_type": "stream",
          "name": "stdout",
          "text": [
            "Accuracy: 0.7452554744525547\n",
            "Precision: 0.7496827510240499\n",
            "Recall: 0.7452554744525547\n",
            "F1-Score: 0.7467568927957936\n"
          ]
        }
      ]
    }
  ]
}